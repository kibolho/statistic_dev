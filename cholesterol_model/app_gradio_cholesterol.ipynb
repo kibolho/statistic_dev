{
 "cells": [
  {
   "cell_type": "markdown",
   "metadata": {},
   "source": [
    "# Cholesterol Gradio App"
   ]
  },
  {
   "cell_type": "code",
   "execution_count": 1,
   "metadata": {},
   "outputs": [
    {
     "name": "stderr",
     "output_type": "stream",
     "text": [
      "/Users/abilioazevedo/.local/share/virtualenvs/statistic_dev-k82UT3Rq/lib/python3.11/site-packages/tqdm/auto.py:21: TqdmWarning: IProgress not found. Please update jupyter and ipywidgets. See https://ipywidgets.readthedocs.io/en/stable/user_install.html\n",
      "  from .autonotebook import tqdm as notebook_tqdm\n"
     ]
    }
   ],
   "source": [
    "import gradio as gr\n",
    "import joblib\n",
    "import pandas as pd"
   ]
  },
  {
   "cell_type": "code",
   "execution_count": 2,
   "metadata": {},
   "outputs": [],
   "source": [
    "modelo = joblib.load('./model_regr.pkl')"
   ]
  },
  {
   "cell_type": "code",
   "execution_count": 3,
   "metadata": {},
   "outputs": [
    {
     "data": {
      "text/plain": [
       "array([576.5])"
      ]
     },
     "execution_count": 3,
     "metadata": {},
     "output_type": "execute_result"
    }
   ],
   "source": [
    "def predict(grupo_sanguineo, fumante, nivel_atividade_fisica, idade,peso, altura):\n",
    "  _fumante = \"Sim\" if fumante else \"Não\"\n",
    "  predicao_individual = {\n",
    "    \"grupo_sanguineo\": grupo_sanguineo,\n",
    "    \"fumante\": _fumante,\n",
    "    \"nivel_atividade_fisica\": nivel_atividade_fisica,\n",
    "    \"idade\": idade,\n",
    "    \"peso\": peso,\n",
    "    \"altura\": altura,\n",
    "  }\n",
    "  predict_df = pd.DataFrame(predicao_individual, index=[1])\n",
    "  colesterol = modelo.predict(predict_df)\n",
    "  return colesterol.reshape(-1)\n",
    "  \n",
    "predict(\"O\", \"Sim\", \"Alto\", 20, 70, 1.80)"
   ]
  },
  {
   "cell_type": "code",
   "execution_count": 4,
   "metadata": {},
   "outputs": [],
   "source": [
    "demo = gr.Interface(\n",
    "  fn=predict,\n",
    "  inputs=[\n",
    "    gr.Radio([\"A\", \"B\", \"AB\", \"O\"], label=\"Grupo Sanguíneo\"),\n",
    "    \"checkbox\",\n",
    "    gr.Radio([\"Alto\", \"Moderado\", \"Baixo\"], label=\"Nível de Atividade Física\"),\n",
    "    gr.Slider(20, 80, step=1, label=\"Idade\"),\n",
    "    gr.Slider(40, 160, step=0.1, label=\"Peso\"),\n",
    "    gr.Slider(150, 200, step=1),\n",
    "  ],\n",
    "  outputs=['number']\n",
    ")"
   ]
  },
  {
   "cell_type": "code",
   "execution_count": 5,
   "metadata": {},
   "outputs": [
    {
     "name": "stdout",
     "output_type": "stream",
     "text": [
      "Running on local URL:  http://127.0.0.1:7860\n",
      "Running on public URL: https://8a03c8acc322b37fa7.gradio.live\n",
      "\n",
      "This share link expires in 72 hours. For free permanent hosting and GPU upgrades, run `gradio deploy` from Terminal to deploy to Spaces (https://huggingface.co/spaces)\n"
     ]
    },
    {
     "data": {
      "text/html": [
       "<div><iframe src=\"https://8a03c8acc322b37fa7.gradio.live\" width=\"100%\" height=\"500\" allow=\"autoplay; camera; microphone; clipboard-read; clipboard-write;\" frameborder=\"0\" allowfullscreen></iframe></div>"
      ],
      "text/plain": [
       "<IPython.core.display.HTML object>"
      ]
     },
     "metadata": {},
     "output_type": "display_data"
    },
    {
     "data": {
      "text/plain": []
     },
     "execution_count": 5,
     "metadata": {},
     "output_type": "execute_result"
    }
   ],
   "source": [
    "demo.launch(share=True)"
   ]
  }
 ],
 "metadata": {
  "kernelspec": {
   "display_name": "statistic_dev-k82UT3Rq",
   "language": "python",
   "name": "python3"
  },
  "language_info": {
   "codemirror_mode": {
    "name": "ipython",
    "version": 3
   },
   "file_extension": ".py",
   "mimetype": "text/x-python",
   "name": "python",
   "nbconvert_exporter": "python",
   "pygments_lexer": "ipython3",
   "version": "3.11.4"
  }
 },
 "nbformat": 4,
 "nbformat_minor": 2
}
