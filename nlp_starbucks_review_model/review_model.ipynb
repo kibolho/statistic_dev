{
 "cells": [
  {
   "cell_type": "markdown",
   "metadata": {},
   "source": [
    "## Pacotes Necessários"
   ]
  },
  {
   "cell_type": "markdown",
   "metadata": {},
   "source": [
    "```bash\n",
    "pipenv run python -m spacy download en_core_web_trf\n",
    "```"
   ]
  },
  {
   "cell_type": "code",
   "execution_count": 31,
   "metadata": {},
   "outputs": [],
   "source": [
    "import pandas as pd\n",
    "\n",
    "import seaborn as sns\n",
    "import matplotlib.pyplot as plt\n",
    "\n",
    "import re\n",
    "import string\n",
    "from spacy import load\n",
    "\n",
    "## Carregando o modelo pré-treinado - https://spacy.io/models/en#en_core_web_trf\n",
    "nlp = load('en_core_web_trf')"
   ]
  },
  {
   "cell_type": "markdown",
   "metadata": {},
   "source": [
    "## Funções"
   ]
  },
  {
   "cell_type": "code",
   "execution_count": 32,
   "metadata": {},
   "outputs": [],
   "source": [
    "###############################################################\n",
    "#### AVALIANDO O % NAS COLUNAS QUE CONTEM VALORES NULOS #######\n",
    "###############################################################\n",
    "def percentual_nulos(df,lista_avaliar):\n",
    "    total_linhas = df.shape[0]\n",
    "    lista_percentual = []\n",
    "\n",
    "    ## SALVANDO A SAIDA DA FUNCAO QUE RETORNA A QTDE DE NULOS POR COLUNA\n",
    "    teste_nulos = df.isnull().sum()\n",
    "\n",
    "    ## SALVA O RESULTADO EM UM DATAFRAME\n",
    "    teste_nulos = pd.DataFrame({'COLUNA':teste_nulos.index, 'VALOR':teste_nulos.values})\n",
    "\n",
    "    ## SELECIONA APENAS AS COLUNAS QUE PRECISAM SER AVALIADAS\n",
    "    teste_nulos = teste_nulos.query('COLUNA == @lista_avaliar')\n",
    "\n",
    "    ## SALVA O NOME DAS COLUNAS EM UMA LISTA\n",
    "    colunas = teste_nulos.COLUNA.tolist()\n",
    "\n",
    "    ## SALVA OS VALORES DE MISSINGS POR COLUNA EM UMA LISTA\n",
    "    valor = teste_nulos.VALOR.tolist()\n",
    "\n",
    "    # obtenha a lista de tuplas de duas listas\n",
    "    # e mescle-as usando zip().\n",
    "    lista_de_tuplas = list(zip(colunas, valor))\n",
    "\n",
    "    # converte uma lista de tuplas num DataFrame\n",
    "    df_avaliado = pd.DataFrame(lista_de_tuplas, columns=['colunas', 'valor'])\n",
    "\n",
    "    ## FILTRANDO NO DF APENAS COLUNAS QUE POSSUEM DADOS\n",
    "    for i,coluna in enumerate(colunas):\n",
    "        percentual = round((valor[i]/total_linhas)*100,2)\n",
    "        lista_percentual.append(percentual)\n",
    "\n",
    "    ## Transformando a lista de percentuais em um df pandas\n",
    "    lista_percentual = pd.DataFrame(lista_percentual, columns = ['percentual'])\n",
    "\n",
    "    ## Juntando a informação de percentual ao df \n",
    "    df_avaliado = pd.concat([df_avaliado,lista_percentual], axis = 1)\n",
    "\n",
    "    return(df_avaliado)"
   ]
  },
  {
   "cell_type": "code",
   "execution_count": 33,
   "metadata": {},
   "outputs": [
    {
     "data": {
      "text/html": [
       "<div>\n",
       "<style scoped>\n",
       "    .dataframe tbody tr th:only-of-type {\n",
       "        vertical-align: middle;\n",
       "    }\n",
       "\n",
       "    .dataframe tbody tr th {\n",
       "        vertical-align: top;\n",
       "    }\n",
       "\n",
       "    .dataframe thead th {\n",
       "        text-align: right;\n",
       "    }\n",
       "</style>\n",
       "<table border=\"1\" class=\"dataframe\">\n",
       "  <thead>\n",
       "    <tr style=\"text-align: right;\">\n",
       "      <th></th>\n",
       "      <th>name</th>\n",
       "      <th>location</th>\n",
       "      <th>Date</th>\n",
       "      <th>Rating</th>\n",
       "      <th>Review</th>\n",
       "      <th>Image_Links</th>\n",
       "    </tr>\n",
       "  </thead>\n",
       "  <tbody>\n",
       "    <tr>\n",
       "      <th>0</th>\n",
       "      <td>Helen</td>\n",
       "      <td>Wichita Falls, TX</td>\n",
       "      <td>Reviewed Sept. 13, 2023</td>\n",
       "      <td>5.0</td>\n",
       "      <td>Amber and LaDonna at the Starbucks on Southwes...</td>\n",
       "      <td>['No Images']</td>\n",
       "    </tr>\n",
       "    <tr>\n",
       "      <th>1</th>\n",
       "      <td>Courtney</td>\n",
       "      <td>Apopka, FL</td>\n",
       "      <td>Reviewed July 16, 2023</td>\n",
       "      <td>5.0</td>\n",
       "      <td>** at the Starbucks by the fire station on 436...</td>\n",
       "      <td>['No Images']</td>\n",
       "    </tr>\n",
       "    <tr>\n",
       "      <th>2</th>\n",
       "      <td>Daynelle</td>\n",
       "      <td>Cranberry Twp, PA</td>\n",
       "      <td>Reviewed July 5, 2023</td>\n",
       "      <td>5.0</td>\n",
       "      <td>I just wanted to go out of my way to recognize...</td>\n",
       "      <td>['https://media.consumeraffairs.com/files/cach...</td>\n",
       "    </tr>\n",
       "    <tr>\n",
       "      <th>3</th>\n",
       "      <td>Taylor</td>\n",
       "      <td>Seattle, WA</td>\n",
       "      <td>Reviewed May 26, 2023</td>\n",
       "      <td>5.0</td>\n",
       "      <td>Me and my friend were at Starbucks and my card...</td>\n",
       "      <td>['No Images']</td>\n",
       "    </tr>\n",
       "    <tr>\n",
       "      <th>4</th>\n",
       "      <td>Tenessa</td>\n",
       "      <td>Gresham, OR</td>\n",
       "      <td>Reviewed Jan. 22, 2023</td>\n",
       "      <td>5.0</td>\n",
       "      <td>I’m on this kick of drinking 5 cups of warm wa...</td>\n",
       "      <td>['https://media.consumeraffairs.com/files/cach...</td>\n",
       "    </tr>\n",
       "  </tbody>\n",
       "</table>\n",
       "</div>"
      ],
      "text/plain": [
       "       name           location                     Date  Rating  \\\n",
       "0     Helen  Wichita Falls, TX  Reviewed Sept. 13, 2023     5.0   \n",
       "1  Courtney         Apopka, FL   Reviewed July 16, 2023     5.0   \n",
       "2  Daynelle  Cranberry Twp, PA    Reviewed July 5, 2023     5.0   \n",
       "3    Taylor        Seattle, WA    Reviewed May 26, 2023     5.0   \n",
       "4   Tenessa        Gresham, OR   Reviewed Jan. 22, 2023     5.0   \n",
       "\n",
       "                                              Review  \\\n",
       "0  Amber and LaDonna at the Starbucks on Southwes...   \n",
       "1  ** at the Starbucks by the fire station on 436...   \n",
       "2  I just wanted to go out of my way to recognize...   \n",
       "3  Me and my friend were at Starbucks and my card...   \n",
       "4  I’m on this kick of drinking 5 cups of warm wa...   \n",
       "\n",
       "                                         Image_Links  \n",
       "0                                      ['No Images']  \n",
       "1                                      ['No Images']  \n",
       "2  ['https://media.consumeraffairs.com/files/cach...  \n",
       "3                                      ['No Images']  \n",
       "4  ['https://media.consumeraffairs.com/files/cach...  "
      ]
     },
     "execution_count": 33,
     "metadata": {},
     "output_type": "execute_result"
    }
   ],
   "source": [
    "## Carregando o conjunto de dados\n",
    "df = pd.read_csv('./datasets/reviews_data.csv')\n",
    "df.head()"
   ]
  },
  {
   "cell_type": "code",
   "execution_count": 34,
   "metadata": {},
   "outputs": [
    {
     "data": {
      "text/html": [
       "<div>\n",
       "<style scoped>\n",
       "    .dataframe tbody tr th:only-of-type {\n",
       "        vertical-align: middle;\n",
       "    }\n",
       "\n",
       "    .dataframe tbody tr th {\n",
       "        vertical-align: top;\n",
       "    }\n",
       "\n",
       "    .dataframe thead th {\n",
       "        text-align: right;\n",
       "    }\n",
       "</style>\n",
       "<table border=\"1\" class=\"dataframe\">\n",
       "  <thead>\n",
       "    <tr style=\"text-align: right;\">\n",
       "      <th></th>\n",
       "      <th>colunas</th>\n",
       "      <th>valor</th>\n",
       "      <th>percentual</th>\n",
       "    </tr>\n",
       "  </thead>\n",
       "  <tbody>\n",
       "    <tr>\n",
       "      <th>0</th>\n",
       "      <td>name</td>\n",
       "      <td>0</td>\n",
       "      <td>0.00</td>\n",
       "    </tr>\n",
       "    <tr>\n",
       "      <th>1</th>\n",
       "      <td>location</td>\n",
       "      <td>0</td>\n",
       "      <td>0.00</td>\n",
       "    </tr>\n",
       "    <tr>\n",
       "      <th>2</th>\n",
       "      <td>Date</td>\n",
       "      <td>0</td>\n",
       "      <td>0.00</td>\n",
       "    </tr>\n",
       "    <tr>\n",
       "      <th>3</th>\n",
       "      <td>Rating</td>\n",
       "      <td>145</td>\n",
       "      <td>17.06</td>\n",
       "    </tr>\n",
       "    <tr>\n",
       "      <th>4</th>\n",
       "      <td>Review</td>\n",
       "      <td>0</td>\n",
       "      <td>0.00</td>\n",
       "    </tr>\n",
       "    <tr>\n",
       "      <th>5</th>\n",
       "      <td>Image_Links</td>\n",
       "      <td>0</td>\n",
       "      <td>0.00</td>\n",
       "    </tr>\n",
       "  </tbody>\n",
       "</table>\n",
       "</div>"
      ],
      "text/plain": [
       "       colunas  valor  percentual\n",
       "0         name      0        0.00\n",
       "1     location      0        0.00\n",
       "2         Date      0        0.00\n",
       "3       Rating    145       17.06\n",
       "4       Review      0        0.00\n",
       "5  Image_Links      0        0.00"
      ]
     },
     "execution_count": 34,
     "metadata": {},
     "output_type": "execute_result"
    }
   ],
   "source": [
    "###############################################################################\n",
    "########### AVALIANDO O PERCENTUAL DE NULOS NAS COLUNAS #######################\n",
    "###############################################################################\n",
    "\n",
    "lista_avaliar = list(df.columns)\n",
    "df_avaliado = percentual_nulos(df,lista_avaliar)\n",
    "df_avaliado.head(10)"
   ]
  },
  {
   "cell_type": "markdown",
   "metadata": {},
   "source": [
    "Como é possível observar, há 145 valores nulos na coluna Rating que é a variável target. Esses dados nulos seriam correspondentes aos dados de teste para previsão depois do modelo treinado. No final deste código, os dados serão separados em treino e teste e, nos dados de treino não deverá conter nenhum dado nulo na variável target."
   ]
  },
  {
   "cell_type": "code",
   "execution_count": 35,
   "metadata": {},
   "outputs": [
    {
     "name": "stdout",
     "output_type": "stream",
     "text": [
      "<class 'pandas.core.frame.DataFrame'>\n",
      "RangeIndex: 850 entries, 0 to 849\n",
      "Data columns (total 6 columns):\n",
      " #   Column       Non-Null Count  Dtype  \n",
      "---  ------       --------------  -----  \n",
      " 0   name         850 non-null    object \n",
      " 1   location     850 non-null    object \n",
      " 2   Date         850 non-null    object \n",
      " 3   Rating       705 non-null    float64\n",
      " 4   Review       850 non-null    object \n",
      " 5   Image_Links  850 non-null    object \n",
      "dtypes: float64(1), object(5)\n",
      "memory usage: 40.0+ KB\n"
     ]
    }
   ],
   "source": [
    "### Dados Gerais sobre os dados\n",
    "df.info()"
   ]
  },
  {
   "cell_type": "markdown",
   "metadata": {},
   "source": [
    "A coluna Date contém valores de data, contudo o tipo identificado é do tipo object, é necessário alterar o tipo da coluna para utilizá-la de forma adequada em gráficos."
   ]
  },
  {
   "cell_type": "code",
   "execution_count": 36,
   "metadata": {},
   "outputs": [
    {
     "data": {
      "text/html": [
       "<div>\n",
       "<style scoped>\n",
       "    .dataframe tbody tr th:only-of-type {\n",
       "        vertical-align: middle;\n",
       "    }\n",
       "\n",
       "    .dataframe tbody tr th {\n",
       "        vertical-align: top;\n",
       "    }\n",
       "\n",
       "    .dataframe thead th {\n",
       "        text-align: right;\n",
       "    }\n",
       "</style>\n",
       "<table border=\"1\" class=\"dataframe\">\n",
       "  <thead>\n",
       "    <tr style=\"text-align: right;\">\n",
       "      <th></th>\n",
       "      <th>name</th>\n",
       "      <th>location</th>\n",
       "      <th>Date</th>\n",
       "      <th>date_treat</th>\n",
       "      <th>Rating</th>\n",
       "      <th>Review</th>\n",
       "    </tr>\n",
       "  </thead>\n",
       "  <tbody>\n",
       "    <tr>\n",
       "      <th>0</th>\n",
       "      <td>Helen</td>\n",
       "      <td>Wichita Falls, TX</td>\n",
       "      <td>Reviewed Sept. 13, 2023</td>\n",
       "      <td>2023-09-13</td>\n",
       "      <td>5.0</td>\n",
       "      <td>Amber and LaDonna at the Starbucks on Southwes...</td>\n",
       "    </tr>\n",
       "    <tr>\n",
       "      <th>1</th>\n",
       "      <td>Courtney</td>\n",
       "      <td>Apopka, FL</td>\n",
       "      <td>Reviewed July 16, 2023</td>\n",
       "      <td>2023-07-16</td>\n",
       "      <td>5.0</td>\n",
       "      <td>** at the Starbucks by the fire station on 436...</td>\n",
       "    </tr>\n",
       "    <tr>\n",
       "      <th>2</th>\n",
       "      <td>Daynelle</td>\n",
       "      <td>Cranberry Twp, PA</td>\n",
       "      <td>Reviewed July 5, 2023</td>\n",
       "      <td>2023-07-05</td>\n",
       "      <td>5.0</td>\n",
       "      <td>I just wanted to go out of my way to recognize...</td>\n",
       "    </tr>\n",
       "    <tr>\n",
       "      <th>3</th>\n",
       "      <td>Taylor</td>\n",
       "      <td>Seattle, WA</td>\n",
       "      <td>Reviewed May 26, 2023</td>\n",
       "      <td>2023-05-26</td>\n",
       "      <td>5.0</td>\n",
       "      <td>Me and my friend were at Starbucks and my card...</td>\n",
       "    </tr>\n",
       "    <tr>\n",
       "      <th>4</th>\n",
       "      <td>Tenessa</td>\n",
       "      <td>Gresham, OR</td>\n",
       "      <td>Reviewed Jan. 22, 2023</td>\n",
       "      <td>2023-01-22</td>\n",
       "      <td>5.0</td>\n",
       "      <td>I’m on this kick of drinking 5 cups of warm wa...</td>\n",
       "    </tr>\n",
       "  </tbody>\n",
       "</table>\n",
       "</div>"
      ],
      "text/plain": [
       "       name           location                     Date date_treat  Rating  \\\n",
       "0     Helen  Wichita Falls, TX  Reviewed Sept. 13, 2023 2023-09-13     5.0   \n",
       "1  Courtney         Apopka, FL   Reviewed July 16, 2023 2023-07-16     5.0   \n",
       "2  Daynelle  Cranberry Twp, PA    Reviewed July 5, 2023 2023-07-05     5.0   \n",
       "3    Taylor        Seattle, WA    Reviewed May 26, 2023 2023-05-26     5.0   \n",
       "4   Tenessa        Gresham, OR   Reviewed Jan. 22, 2023 2023-01-22     5.0   \n",
       "\n",
       "                                              Review  \n",
       "0  Amber and LaDonna at the Starbucks on Southwes...  \n",
       "1  ** at the Starbucks by the fire station on 436...  \n",
       "2  I just wanted to go out of my way to recognize...  \n",
       "3  Me and my friend were at Starbucks and my card...  \n",
       "4  I’m on this kick of drinking 5 cups of warm wa...  "
      ]
     },
     "execution_count": 36,
     "metadata": {},
     "output_type": "execute_result"
    }
   ],
   "source": [
    "## Copiando a coluna original e tratando em uma coluna adicionada\n",
    "df['date_treat'] = df['Date']\n",
    "df['date_treat'] = df['date_treat'].str.split('Reviewed').str[1] # separando a string usando como criterio o /\n",
    "df['date_treat'] = df['date_treat'].str.strip() # retirando os espacos em branco no inicio e final da string\n",
    "\n",
    "## Retirando o ponto de algumas strings\n",
    "df['date_treat'] = df['date_treat'].str.replace('.', '')\n",
    "\n",
    "## Passando o tipo de dado para datetime\n",
    "df['date_treat'] = pd.to_datetime(df['date_treat'], format = \"mixed\")\n",
    "\n",
    "## Alterando a ordem das colunas e retirando a coluna Image_Links que não será utilizada\n",
    "df = df[['name',\n",
    "         'location',\n",
    "         'Date',\n",
    "         'date_treat',\n",
    "         'Rating',\n",
    "         'Review']]\n",
    "\n",
    "df.head()"
   ]
  },
  {
   "cell_type": "markdown",
   "metadata": {},
   "source": [
    "Agora que o campo de data foi ajustado, faz-se o tratamento do campo location separando a string em cidade e estado."
   ]
  },
  {
   "cell_type": "code",
   "execution_count": 37,
   "metadata": {},
   "outputs": [
    {
     "data": {
      "text/html": [
       "<div>\n",
       "<style scoped>\n",
       "    .dataframe tbody tr th:only-of-type {\n",
       "        vertical-align: middle;\n",
       "    }\n",
       "\n",
       "    .dataframe tbody tr th {\n",
       "        vertical-align: top;\n",
       "    }\n",
       "\n",
       "    .dataframe thead th {\n",
       "        text-align: right;\n",
       "    }\n",
       "</style>\n",
       "<table border=\"1\" class=\"dataframe\">\n",
       "  <thead>\n",
       "    <tr style=\"text-align: right;\">\n",
       "      <th></th>\n",
       "      <th>name</th>\n",
       "      <th>location</th>\n",
       "      <th>city</th>\n",
       "      <th>state</th>\n",
       "      <th>Date</th>\n",
       "      <th>date_treat</th>\n",
       "      <th>Rating</th>\n",
       "      <th>Review</th>\n",
       "    </tr>\n",
       "  </thead>\n",
       "  <tbody>\n",
       "    <tr>\n",
       "      <th>0</th>\n",
       "      <td>Helen</td>\n",
       "      <td>Wichita Falls, TX</td>\n",
       "      <td>Wichita Falls</td>\n",
       "      <td>TX</td>\n",
       "      <td>Reviewed Sept. 13, 2023</td>\n",
       "      <td>2023-09-13</td>\n",
       "      <td>5.0</td>\n",
       "      <td>Amber and LaDonna at the Starbucks on Southwes...</td>\n",
       "    </tr>\n",
       "    <tr>\n",
       "      <th>1</th>\n",
       "      <td>Courtney</td>\n",
       "      <td>Apopka, FL</td>\n",
       "      <td>Apopka</td>\n",
       "      <td>FL</td>\n",
       "      <td>Reviewed July 16, 2023</td>\n",
       "      <td>2023-07-16</td>\n",
       "      <td>5.0</td>\n",
       "      <td>** at the Starbucks by the fire station on 436...</td>\n",
       "    </tr>\n",
       "    <tr>\n",
       "      <th>2</th>\n",
       "      <td>Daynelle</td>\n",
       "      <td>Cranberry Twp, PA</td>\n",
       "      <td>Cranberry Twp</td>\n",
       "      <td>PA</td>\n",
       "      <td>Reviewed July 5, 2023</td>\n",
       "      <td>2023-07-05</td>\n",
       "      <td>5.0</td>\n",
       "      <td>I just wanted to go out of my way to recognize...</td>\n",
       "    </tr>\n",
       "    <tr>\n",
       "      <th>3</th>\n",
       "      <td>Taylor</td>\n",
       "      <td>Seattle, WA</td>\n",
       "      <td>Seattle</td>\n",
       "      <td>WA</td>\n",
       "      <td>Reviewed May 26, 2023</td>\n",
       "      <td>2023-05-26</td>\n",
       "      <td>5.0</td>\n",
       "      <td>Me and my friend were at Starbucks and my card...</td>\n",
       "    </tr>\n",
       "    <tr>\n",
       "      <th>4</th>\n",
       "      <td>Tenessa</td>\n",
       "      <td>Gresham, OR</td>\n",
       "      <td>Gresham</td>\n",
       "      <td>OR</td>\n",
       "      <td>Reviewed Jan. 22, 2023</td>\n",
       "      <td>2023-01-22</td>\n",
       "      <td>5.0</td>\n",
       "      <td>I’m on this kick of drinking 5 cups of warm wa...</td>\n",
       "    </tr>\n",
       "  </tbody>\n",
       "</table>\n",
       "</div>"
      ],
      "text/plain": [
       "       name           location           city state                     Date  \\\n",
       "0     Helen  Wichita Falls, TX  Wichita Falls    TX  Reviewed Sept. 13, 2023   \n",
       "1  Courtney         Apopka, FL         Apopka    FL   Reviewed July 16, 2023   \n",
       "2  Daynelle  Cranberry Twp, PA  Cranberry Twp    PA    Reviewed July 5, 2023   \n",
       "3    Taylor        Seattle, WA        Seattle    WA    Reviewed May 26, 2023   \n",
       "4   Tenessa        Gresham, OR        Gresham    OR   Reviewed Jan. 22, 2023   \n",
       "\n",
       "  date_treat  Rating                                             Review  \n",
       "0 2023-09-13     5.0  Amber and LaDonna at the Starbucks on Southwes...  \n",
       "1 2023-07-16     5.0  ** at the Starbucks by the fire station on 436...  \n",
       "2 2023-07-05     5.0  I just wanted to go out of my way to recognize...  \n",
       "3 2023-05-26     5.0  Me and my friend were at Starbucks and my card...  \n",
       "4 2023-01-22     5.0  I’m on this kick of drinking 5 cups of warm wa...  "
      ]
     },
     "execution_count": 37,
     "metadata": {},
     "output_type": "execute_result"
    }
   ],
   "source": [
    "### Criando a coluna city com a informação que vem antes da vírgula na coluna location\n",
    "df.insert(2, \"city\", df[\"location\"].str.split(\",\").str[0])\n",
    "df['city'] = df['city'].str.strip() # retirando os espacos em branco no inicio e final da string\n",
    "\n",
    "### Criando a coluna state com a informação que vem depois da vírgula na coluna location\n",
    "df.insert(3, \"state\", df[\"location\"].str.split(\",\").str[1])\n",
    "df['state'] = df['state'].str.strip() # retirando os espacos em branco no inicio e final da string\n",
    "\n",
    "df.head()"
   ]
  },
  {
   "cell_type": "code",
   "execution_count": 38,
   "metadata": {},
   "outputs": [
    {
     "data": {
      "text/plain": [
       "array([ 5.,  1.,  2.,  3.,  4., nan])"
      ]
     },
     "execution_count": 38,
     "metadata": {},
     "output_type": "execute_result"
    }
   ],
   "source": [
    "## A coluna Rating deveria possuir apenas valores inteiros pois trata-se de um score. \n",
    "## Alterando o tipo de dado\n",
    "df = df.astype({'Rating': float})\n",
    "df.Rating.unique()"
   ]
  },
  {
   "cell_type": "markdown",
   "metadata": {},
   "source": [
    "Um score de 1 a 5 possui características que podem ser resumidas em um score de 0 a 2, sendo:\n",
    "\n",
    "- Negative : 0\n",
    "\n",
    "- Neutral : 1\n",
    "\n",
    "- Positive : 2\n",
    "\n",
    "Isto pode ajudar na performance do modelo de classificação e facilita também a compreensão dos resultados, ou seja, se o consumidor está satisfeito (positive), neutro (neutral) ou insatisfeito (negative) em relação ao serviço prestado."
   ]
  },
  {
   "cell_type": "code",
   "execution_count": 39,
   "metadata": {},
   "outputs": [
    {
     "data": {
      "text/html": [
       "<div>\n",
       "<style scoped>\n",
       "    .dataframe tbody tr th:only-of-type {\n",
       "        vertical-align: middle;\n",
       "    }\n",
       "\n",
       "    .dataframe tbody tr th {\n",
       "        vertical-align: top;\n",
       "    }\n",
       "\n",
       "    .dataframe thead th {\n",
       "        text-align: right;\n",
       "    }\n",
       "</style>\n",
       "<table border=\"1\" class=\"dataframe\">\n",
       "  <thead>\n",
       "    <tr style=\"text-align: right;\">\n",
       "      <th></th>\n",
       "      <th>name</th>\n",
       "      <th>location</th>\n",
       "      <th>city</th>\n",
       "      <th>state</th>\n",
       "      <th>Date</th>\n",
       "      <th>date_treat</th>\n",
       "      <th>Rating</th>\n",
       "      <th>Review</th>\n",
       "      <th>rating_treat</th>\n",
       "    </tr>\n",
       "  </thead>\n",
       "  <tbody>\n",
       "    <tr>\n",
       "      <th>0</th>\n",
       "      <td>Helen</td>\n",
       "      <td>Wichita Falls, TX</td>\n",
       "      <td>Wichita Falls</td>\n",
       "      <td>TX</td>\n",
       "      <td>Reviewed Sept. 13, 2023</td>\n",
       "      <td>2023-09-13</td>\n",
       "      <td>5.0</td>\n",
       "      <td>Amber and LaDonna at the Starbucks on Southwes...</td>\n",
       "      <td>2.0</td>\n",
       "    </tr>\n",
       "    <tr>\n",
       "      <th>1</th>\n",
       "      <td>Courtney</td>\n",
       "      <td>Apopka, FL</td>\n",
       "      <td>Apopka</td>\n",
       "      <td>FL</td>\n",
       "      <td>Reviewed July 16, 2023</td>\n",
       "      <td>2023-07-16</td>\n",
       "      <td>5.0</td>\n",
       "      <td>** at the Starbucks by the fire station on 436...</td>\n",
       "      <td>2.0</td>\n",
       "    </tr>\n",
       "    <tr>\n",
       "      <th>2</th>\n",
       "      <td>Daynelle</td>\n",
       "      <td>Cranberry Twp, PA</td>\n",
       "      <td>Cranberry Twp</td>\n",
       "      <td>PA</td>\n",
       "      <td>Reviewed July 5, 2023</td>\n",
       "      <td>2023-07-05</td>\n",
       "      <td>5.0</td>\n",
       "      <td>I just wanted to go out of my way to recognize...</td>\n",
       "      <td>2.0</td>\n",
       "    </tr>\n",
       "    <tr>\n",
       "      <th>3</th>\n",
       "      <td>Taylor</td>\n",
       "      <td>Seattle, WA</td>\n",
       "      <td>Seattle</td>\n",
       "      <td>WA</td>\n",
       "      <td>Reviewed May 26, 2023</td>\n",
       "      <td>2023-05-26</td>\n",
       "      <td>5.0</td>\n",
       "      <td>Me and my friend were at Starbucks and my card...</td>\n",
       "      <td>2.0</td>\n",
       "    </tr>\n",
       "    <tr>\n",
       "      <th>4</th>\n",
       "      <td>Tenessa</td>\n",
       "      <td>Gresham, OR</td>\n",
       "      <td>Gresham</td>\n",
       "      <td>OR</td>\n",
       "      <td>Reviewed Jan. 22, 2023</td>\n",
       "      <td>2023-01-22</td>\n",
       "      <td>5.0</td>\n",
       "      <td>I’m on this kick of drinking 5 cups of warm wa...</td>\n",
       "      <td>2.0</td>\n",
       "    </tr>\n",
       "  </tbody>\n",
       "</table>\n",
       "</div>"
      ],
      "text/plain": [
       "       name           location           city state                     Date  \\\n",
       "0     Helen  Wichita Falls, TX  Wichita Falls    TX  Reviewed Sept. 13, 2023   \n",
       "1  Courtney         Apopka, FL         Apopka    FL   Reviewed July 16, 2023   \n",
       "2  Daynelle  Cranberry Twp, PA  Cranberry Twp    PA    Reviewed July 5, 2023   \n",
       "3    Taylor        Seattle, WA        Seattle    WA    Reviewed May 26, 2023   \n",
       "4   Tenessa        Gresham, OR        Gresham    OR   Reviewed Jan. 22, 2023   \n",
       "\n",
       "  date_treat  Rating                                             Review  \\\n",
       "0 2023-09-13     5.0  Amber and LaDonna at the Starbucks on Southwes...   \n",
       "1 2023-07-16     5.0  ** at the Starbucks by the fire station on 436...   \n",
       "2 2023-07-05     5.0  I just wanted to go out of my way to recognize...   \n",
       "3 2023-05-26     5.0  Me and my friend were at Starbucks and my card...   \n",
       "4 2023-01-22     5.0  I’m on this kick of drinking 5 cups of warm wa...   \n",
       "\n",
       "   rating_treat  \n",
       "0           2.0  \n",
       "1           2.0  \n",
       "2           2.0  \n",
       "3           2.0  \n",
       "4           2.0  "
      ]
     },
     "execution_count": 39,
     "metadata": {},
     "output_type": "execute_result"
    }
   ],
   "source": [
    "df[\"rating_treat\"] = df[\"Rating\"]\n",
    "df[\"rating_treat\"] = df[\"rating_treat\"].replace([1,2],0)\n",
    "df[\"rating_treat\"] = df[\"rating_treat\"].replace(3,1)\n",
    "df[\"rating_treat\"] = df[\"rating_treat\"].replace([4,5],2)\n",
    "df.head()"
   ]
  },
  {
   "cell_type": "code",
   "execution_count": 40,
   "metadata": {},
   "outputs": [
    {
     "data": {
      "text/html": [
       "<div>\n",
       "<style scoped>\n",
       "    .dataframe tbody tr th:only-of-type {\n",
       "        vertical-align: middle;\n",
       "    }\n",
       "\n",
       "    .dataframe tbody tr th {\n",
       "        vertical-align: top;\n",
       "    }\n",
       "\n",
       "    .dataframe thead th {\n",
       "        text-align: right;\n",
       "    }\n",
       "</style>\n",
       "<table border=\"1\" class=\"dataframe\">\n",
       "  <thead>\n",
       "    <tr style=\"text-align: right;\">\n",
       "      <th></th>\n",
       "      <th>name</th>\n",
       "      <th>location</th>\n",
       "      <th>city</th>\n",
       "      <th>state</th>\n",
       "      <th>Date</th>\n",
       "      <th>date_treat</th>\n",
       "      <th>Rating</th>\n",
       "      <th>Review</th>\n",
       "      <th>rating_treat</th>\n",
       "      <th>month</th>\n",
       "      <th>year</th>\n",
       "      <th>day_of_week</th>\n",
       "    </tr>\n",
       "  </thead>\n",
       "  <tbody>\n",
       "    <tr>\n",
       "      <th>0</th>\n",
       "      <td>Helen</td>\n",
       "      <td>Wichita Falls, TX</td>\n",
       "      <td>Wichita Falls</td>\n",
       "      <td>TX</td>\n",
       "      <td>Reviewed Sept. 13, 2023</td>\n",
       "      <td>2023-09-13</td>\n",
       "      <td>5.0</td>\n",
       "      <td>Amber and LaDonna at the Starbucks on Southwes...</td>\n",
       "      <td>2.0</td>\n",
       "      <td>9</td>\n",
       "      <td>2023</td>\n",
       "      <td>2</td>\n",
       "    </tr>\n",
       "    <tr>\n",
       "      <th>1</th>\n",
       "      <td>Courtney</td>\n",
       "      <td>Apopka, FL</td>\n",
       "      <td>Apopka</td>\n",
       "      <td>FL</td>\n",
       "      <td>Reviewed July 16, 2023</td>\n",
       "      <td>2023-07-16</td>\n",
       "      <td>5.0</td>\n",
       "      <td>** at the Starbucks by the fire station on 436...</td>\n",
       "      <td>2.0</td>\n",
       "      <td>7</td>\n",
       "      <td>2023</td>\n",
       "      <td>6</td>\n",
       "    </tr>\n",
       "    <tr>\n",
       "      <th>2</th>\n",
       "      <td>Daynelle</td>\n",
       "      <td>Cranberry Twp, PA</td>\n",
       "      <td>Cranberry Twp</td>\n",
       "      <td>PA</td>\n",
       "      <td>Reviewed July 5, 2023</td>\n",
       "      <td>2023-07-05</td>\n",
       "      <td>5.0</td>\n",
       "      <td>I just wanted to go out of my way to recognize...</td>\n",
       "      <td>2.0</td>\n",
       "      <td>7</td>\n",
       "      <td>2023</td>\n",
       "      <td>2</td>\n",
       "    </tr>\n",
       "    <tr>\n",
       "      <th>3</th>\n",
       "      <td>Taylor</td>\n",
       "      <td>Seattle, WA</td>\n",
       "      <td>Seattle</td>\n",
       "      <td>WA</td>\n",
       "      <td>Reviewed May 26, 2023</td>\n",
       "      <td>2023-05-26</td>\n",
       "      <td>5.0</td>\n",
       "      <td>Me and my friend were at Starbucks and my card...</td>\n",
       "      <td>2.0</td>\n",
       "      <td>5</td>\n",
       "      <td>2023</td>\n",
       "      <td>4</td>\n",
       "    </tr>\n",
       "    <tr>\n",
       "      <th>4</th>\n",
       "      <td>Tenessa</td>\n",
       "      <td>Gresham, OR</td>\n",
       "      <td>Gresham</td>\n",
       "      <td>OR</td>\n",
       "      <td>Reviewed Jan. 22, 2023</td>\n",
       "      <td>2023-01-22</td>\n",
       "      <td>5.0</td>\n",
       "      <td>I’m on this kick of drinking 5 cups of warm wa...</td>\n",
       "      <td>2.0</td>\n",
       "      <td>1</td>\n",
       "      <td>2023</td>\n",
       "      <td>6</td>\n",
       "    </tr>\n",
       "  </tbody>\n",
       "</table>\n",
       "</div>"
      ],
      "text/plain": [
       "       name           location           city state                     Date  \\\n",
       "0     Helen  Wichita Falls, TX  Wichita Falls    TX  Reviewed Sept. 13, 2023   \n",
       "1  Courtney         Apopka, FL         Apopka    FL   Reviewed July 16, 2023   \n",
       "2  Daynelle  Cranberry Twp, PA  Cranberry Twp    PA    Reviewed July 5, 2023   \n",
       "3    Taylor        Seattle, WA        Seattle    WA    Reviewed May 26, 2023   \n",
       "4   Tenessa        Gresham, OR        Gresham    OR   Reviewed Jan. 22, 2023   \n",
       "\n",
       "  date_treat  Rating                                             Review  \\\n",
       "0 2023-09-13     5.0  Amber and LaDonna at the Starbucks on Southwes...   \n",
       "1 2023-07-16     5.0  ** at the Starbucks by the fire station on 436...   \n",
       "2 2023-07-05     5.0  I just wanted to go out of my way to recognize...   \n",
       "3 2023-05-26     5.0  Me and my friend were at Starbucks and my card...   \n",
       "4 2023-01-22     5.0  I’m on this kick of drinking 5 cups of warm wa...   \n",
       "\n",
       "   rating_treat  month  year  day_of_week  \n",
       "0           2.0      9  2023            2  \n",
       "1           2.0      7  2023            6  \n",
       "2           2.0      7  2023            2  \n",
       "3           2.0      5  2023            4  \n",
       "4           2.0      1  2023            6  "
      ]
     },
     "execution_count": 40,
     "metadata": {},
     "output_type": "execute_result"
    }
   ],
   "source": [
    "## Variáveis de tempo úteis na análise gráfica\n",
    "df['month'] = df['date_treat'].dt.month\n",
    "df['year'] = df['date_treat'].dt.year\n",
    "df['day_of_week'] = df['date_treat'].dt.dayofweek\n",
    "df = df.astype({'day_of_week': int})\n",
    "\n",
    "## Ordem dos dias da semana\n",
    "day_order = ['Sunday', 'Monday', 'Tuesday', 'Wednesday', 'Thursday', 'Friday', 'Saturday']\n",
    "\n",
    "df.head()"
   ]
  },
  {
   "cell_type": "markdown",
   "metadata": {},
   "source": [
    "### Tratar a coluna Review com NLP\n",
    "\n",
    "Vamos aplicar a lemmatização a coluna Review para reduzir a dimensionalidade do texto e melhorar a performance do modelo.\n",
    "\n",
    "### Lemmatização\n",
    "Lemmatização é o processo de converter uma palavra para sua forma base, chamada lema.\n",
    "\n",
    "O objetivo da lemmatização é padronizar palavras que aparecem em formas flexionadas (com prefixos, sufixos, variações de gênero ou número, etc) para sua forma canônica.\n",
    "\n",
    "Por exemplo:\n",
    "\n",
    "amando -> amar\n",
    "casas -> casa\n",
    "felizmente -> feliz\n",
    "Em processamento de linguagem natural, a lemmatização é utilizada como uma etapa de pré-processamento para normalizar o texto antes de outras análises.\n",
    "\n",
    "Isso ajuda a agrupar diferentes formas flexionadas de uma mesma palavra, de modo que elas possam ser analisadas como uma única palavra base.\n",
    "\n",
    "Alguns exemplos de uso da lemmatização:\n",
    "\n",
    "Na classificação de texto, para tratar palavras flexionadas como equivalentes.\n",
    "Em buscas, para encontrar variantes flexionadas de termos de busca.\n",
    "Em análise de sentimentos, para unir variantes como \"feliz\" e \"felicidade\".\n",
    "Para reduzir a dimensionalidade do texto ao unir variações.\n",
    "Para normalização antes de treinar embeddings de palavras.\n",
    "Em resumo, a lemmatização é uma técnica de processamento de linguagem natural que converte palavras para sua forma base ou lema, com o objetivo de padronizar e melhorar a análise do texto."
   ]
  },
  {
   "cell_type": "code",
   "execution_count": 41,
   "metadata": {},
   "outputs": [
    {
     "name": "stdout",
     "output_type": "stream",
     "text": [
      "['sample', 'sentence', 'stop', 'words']\n"
     ]
    }
   ],
   "source": [
    "# Exemplo de Lemmatização\n",
    "text = \"This is a sample sentence with some stop words\"\n",
    "doc = nlp(text)\n",
    "\n",
    "# Remove stop words\n",
    "filtered_tokens = [token.text for token in doc if not token.is_stop]\n",
    "\n",
    "# Print the text excluding stop words\n",
    "print(filtered_tokens)"
   ]
  },
  {
   "cell_type": "code",
   "execution_count": 42,
   "metadata": {},
   "outputs": [
    {
     "name": "stdout",
     "output_type": "stream",
     "text": [
      "Texto antes: \n",
      " amber and ladonna at the starbucks on southwest parkway are always so warm and welcoming there is always a smile in their voice when they greet you at the drivethru and their customer service is always spoton they always get my order right and with a smile i would actually give them more than  stars if they were available\n",
      "Doc: \n",
      " amber and ladonna at the starbucks on southwest parkway are always so warm and welcoming there is always a smile in their voice when they greet you at the drivethru and their customer service is always spoton they always get my order right and with a smile i would actually give them more than  stars if they were available\n",
      "Depois de lemma: \n",
      " amber and ladonna at the starbucks on southwest parkway be always so warm and welcoming there be always a smile in their voice when they greet you at the drivethru and their customer service be always spoton they always get my order right and with a smile I would actually give they more than   star if they be available\n",
      "Depois de stopwords: \n",
      " amber ladonna starbucks southwest parkway warm welcoming smile voice greet drivethru customer service spoton order right smile actually   stars available\n"
     ]
    }
   ],
   "source": [
    "# Exemplo em uma linha para entendimento\n",
    "\n",
    "text = df.iloc[0,7] # Está selecionando a linha 0, coluna index 7 do dataframe df.\n",
    "text = str(text).lower() # Converte o texto para minúsculas \n",
    "\n",
    "text = re.sub('\\[.*?\\]', '', text) # Remove colchetes e conteúdo\n",
    "text = re.sub('https?://\\S+|www\\.\\S+', '', text) # Remove URLs\n",
    "text = re.sub('<.*?>+', '', text) # Remove tags HTML\n",
    "\n",
    "text = re.sub('[%s]' % re.escape(string.punctuation), '', text) # Remove pontuação\n",
    "text = re.sub('\\n', '', text) # Remove quebras de linha\n",
    "text = re.sub('\\w*\\d\\w*', '', text) # Remove palavras com números\n",
    "\n",
    "print('Texto antes: \\n', text)\n",
    "\n",
    "doc = nlp(text)\n",
    "print('Doc: \\n', doc)\n",
    "\n",
    "text = \" \".join([text.lemma_ for text in doc]) # Lemmatiza o texto\n",
    "print('Depois de lemma: \\n', text) \n",
    "\n",
    "# Remove stop words\n",
    "text = \" \".join([token.text for token in doc if not token.is_stop])  \n",
    "print('Depois de stopwords: \\n', text)"
   ]
  },
  {
   "cell_type": "code",
   "execution_count": 43,
   "metadata": {},
   "outputs": [
    {
     "data": {
      "text/html": [
       "<div>\n",
       "<style scoped>\n",
       "    .dataframe tbody tr th:only-of-type {\n",
       "        vertical-align: middle;\n",
       "    }\n",
       "\n",
       "    .dataframe tbody tr th {\n",
       "        vertical-align: top;\n",
       "    }\n",
       "\n",
       "    .dataframe thead th {\n",
       "        text-align: right;\n",
       "    }\n",
       "</style>\n",
       "<table border=\"1\" class=\"dataframe\">\n",
       "  <thead>\n",
       "    <tr style=\"text-align: right;\">\n",
       "      <th></th>\n",
       "      <th>name</th>\n",
       "      <th>location</th>\n",
       "      <th>city</th>\n",
       "      <th>state</th>\n",
       "      <th>Date</th>\n",
       "      <th>date_treat</th>\n",
       "      <th>Rating</th>\n",
       "      <th>Review</th>\n",
       "      <th>rating_treat</th>\n",
       "      <th>month</th>\n",
       "      <th>year</th>\n",
       "      <th>day_of_week</th>\n",
       "      <th>review_treat</th>\n",
       "    </tr>\n",
       "  </thead>\n",
       "  <tbody>\n",
       "    <tr>\n",
       "      <th>0</th>\n",
       "      <td>Helen</td>\n",
       "      <td>Wichita Falls, TX</td>\n",
       "      <td>Wichita Falls</td>\n",
       "      <td>TX</td>\n",
       "      <td>Reviewed Sept. 13, 2023</td>\n",
       "      <td>2023-09-13</td>\n",
       "      <td>5.0</td>\n",
       "      <td>Amber and LaDonna at the Starbucks on Southwes...</td>\n",
       "      <td>2.0</td>\n",
       "      <td>9</td>\n",
       "      <td>2023</td>\n",
       "      <td>2</td>\n",
       "      <td>amber ladonna starbucks southwest parkway warm...</td>\n",
       "    </tr>\n",
       "    <tr>\n",
       "      <th>1</th>\n",
       "      <td>Courtney</td>\n",
       "      <td>Apopka, FL</td>\n",
       "      <td>Apopka</td>\n",
       "      <td>FL</td>\n",
       "      <td>Reviewed July 16, 2023</td>\n",
       "      <td>2023-07-16</td>\n",
       "      <td>5.0</td>\n",
       "      <td>** at the Starbucks by the fire station on 436...</td>\n",
       "      <td>2.0</td>\n",
       "      <td>7</td>\n",
       "      <td>2023</td>\n",
       "      <td>6</td>\n",
       "      <td>starbucks fire station   altamonte springs f...</td>\n",
       "    </tr>\n",
       "    <tr>\n",
       "      <th>2</th>\n",
       "      <td>Daynelle</td>\n",
       "      <td>Cranberry Twp, PA</td>\n",
       "      <td>Cranberry Twp</td>\n",
       "      <td>PA</td>\n",
       "      <td>Reviewed July 5, 2023</td>\n",
       "      <td>2023-07-05</td>\n",
       "      <td>5.0</td>\n",
       "      <td>I just wanted to go out of my way to recognize...</td>\n",
       "      <td>2.0</td>\n",
       "      <td>7</td>\n",
       "      <td>2023</td>\n",
       "      <td>2</td>\n",
       "      <td>wanted way recognize starbucks employee billy ...</td>\n",
       "    </tr>\n",
       "    <tr>\n",
       "      <th>3</th>\n",
       "      <td>Taylor</td>\n",
       "      <td>Seattle, WA</td>\n",
       "      <td>Seattle</td>\n",
       "      <td>WA</td>\n",
       "      <td>Reviewed May 26, 2023</td>\n",
       "      <td>2023-05-26</td>\n",
       "      <td>5.0</td>\n",
       "      <td>Me and my friend were at Starbucks and my card...</td>\n",
       "      <td>2.0</td>\n",
       "      <td>5</td>\n",
       "      <td>2023</td>\n",
       "      <td>4</td>\n",
       "      <td>friend starbucks card work thankful worker pai...</td>\n",
       "    </tr>\n",
       "    <tr>\n",
       "      <th>4</th>\n",
       "      <td>Tenessa</td>\n",
       "      <td>Gresham, OR</td>\n",
       "      <td>Gresham</td>\n",
       "      <td>OR</td>\n",
       "      <td>Reviewed Jan. 22, 2023</td>\n",
       "      <td>2023-01-22</td>\n",
       "      <td>5.0</td>\n",
       "      <td>I’m on this kick of drinking 5 cups of warm wa...</td>\n",
       "      <td>2.0</td>\n",
       "      <td>1</td>\n",
       "      <td>2023</td>\n",
       "      <td>6</td>\n",
       "      <td>kick drinking   cups warm water work instacart...</td>\n",
       "    </tr>\n",
       "  </tbody>\n",
       "</table>\n",
       "</div>"
      ],
      "text/plain": [
       "       name           location           city state                     Date  \\\n",
       "0     Helen  Wichita Falls, TX  Wichita Falls    TX  Reviewed Sept. 13, 2023   \n",
       "1  Courtney         Apopka, FL         Apopka    FL   Reviewed July 16, 2023   \n",
       "2  Daynelle  Cranberry Twp, PA  Cranberry Twp    PA    Reviewed July 5, 2023   \n",
       "3    Taylor        Seattle, WA        Seattle    WA    Reviewed May 26, 2023   \n",
       "4   Tenessa        Gresham, OR        Gresham    OR   Reviewed Jan. 22, 2023   \n",
       "\n",
       "  date_treat  Rating                                             Review  \\\n",
       "0 2023-09-13     5.0  Amber and LaDonna at the Starbucks on Southwes...   \n",
       "1 2023-07-16     5.0  ** at the Starbucks by the fire station on 436...   \n",
       "2 2023-07-05     5.0  I just wanted to go out of my way to recognize...   \n",
       "3 2023-05-26     5.0  Me and my friend were at Starbucks and my card...   \n",
       "4 2023-01-22     5.0  I’m on this kick of drinking 5 cups of warm wa...   \n",
       "\n",
       "   rating_treat  month  year  day_of_week  \\\n",
       "0           2.0      9  2023            2   \n",
       "1           2.0      7  2023            6   \n",
       "2           2.0      7  2023            2   \n",
       "3           2.0      5  2023            4   \n",
       "4           2.0      1  2023            6   \n",
       "\n",
       "                                        review_treat  \n",
       "0  amber ladonna starbucks southwest parkway warm...  \n",
       "1    starbucks fire station   altamonte springs f...  \n",
       "2  wanted way recognize starbucks employee billy ...  \n",
       "3  friend starbucks card work thankful worker pai...  \n",
       "4  kick drinking   cups warm water work instacart...  "
      ]
     },
     "execution_count": 43,
     "metadata": {},
     "output_type": "execute_result"
    }
   ],
   "source": [
    "# Aplicando em todas as linhas\n",
    "def nlp_function(text):\n",
    "\n",
    "    ## Apply lower case\n",
    "    text = str(text).lower()\n",
    "\n",
    "    ## Removing caracteres\n",
    "    text = re.sub('\\[.*?\\]', '', text)\n",
    "    text = re.sub('https?://\\S+|www\\.\\S+', '', text)\n",
    "    text = re.sub('<.*?>+', '', text)\n",
    "    text = re.sub('[%s]' % re.escape(string.punctuation), '', text)\n",
    "    text = re.sub('\\n', '', text)\n",
    "    text = re.sub('\\w*\\d\\w*', '', text)\n",
    "    #print('Texto antes: \\n', text)\n",
    "    \n",
    "    ## Applying the trained model\n",
    "    doc = nlp(text)\n",
    "    #print('Doc: \\n', doc)\n",
    "    \n",
    "    ## Lemmatization functions: its primary objective is to break down words into their essential roots, making it easier to identify resemblances.\n",
    "    text = \" \".join([text.lemma_ for text in doc])\n",
    "    #print('Depois de lemma: \\n', text)\n",
    "\n",
    "    # Remove stop words: some words are not meaningful, so we remove them.\n",
    "    filtered_tokens = [token.text for token in doc if not token.is_stop]\n",
    "    text=\" \".join(filtered_tokens)\n",
    "    #print('Depois de stopwords: \\n', text)\n",
    "\n",
    "    return text\n",
    "\n",
    "df[\"review_treat\"] = df[\"Review\"].apply(nlp_function)\n",
    "df.head()"
   ]
  },
  {
   "cell_type": "code",
   "execution_count": 44,
   "metadata": {},
   "outputs": [
    {
     "data": {
      "text/plain": [
       "array([2, 6, 4, 3, 5, 1, 0])"
      ]
     },
     "execution_count": 44,
     "metadata": {},
     "output_type": "execute_result"
    }
   ],
   "source": [
    "df.day_of_week.unique()"
   ]
  },
  {
   "cell_type": "code",
   "execution_count": 45,
   "metadata": {},
   "outputs": [
    {
     "data": {
      "text/plain": [
       "([<matplotlib.axis.XTick at 0x2a8c1b010>,\n",
       "  <matplotlib.axis.XTick at 0x2a9899e90>,\n",
       "  <matplotlib.axis.XTick at 0x2a8d35d90>,\n",
       "  <matplotlib.axis.XTick at 0x2a976ebd0>,\n",
       "  <matplotlib.axis.XTick at 0x2a976ce10>,\n",
       "  <matplotlib.axis.XTick at 0x2a9779390>,\n",
       "  <matplotlib.axis.XTick at 0x2a9780250>],\n",
       " [Text(0, 0, 'Sunday'),\n",
       "  Text(1, 0, 'Monday'),\n",
       "  Text(2, 0, 'Tuesday'),\n",
       "  Text(3, 0, 'Wednesday'),\n",
       "  Text(4, 0, 'Thursday'),\n",
       "  Text(5, 0, 'Friday'),\n",
       "  Text(6, 0, 'Saturday')])"
      ]
     },
     "execution_count": 45,
     "metadata": {},
     "output_type": "execute_result"
    },
    {
     "data": {
      "image/png": "[encoded data removed]",
      "text/plain": [
       "<Figure size 1000x600 with 1 Axes>"
      ]
     },
     "metadata": {},
     "output_type": "display_data"
    }
   ],
   "source": [
    "## Rodar depois que retirar os NaN\n",
    "df_graph = df.copy()\n",
    "df_graph = df_graph.groupby(['day_of_week'])['Rating'].mean().reset_index()\n",
    "\n",
    "plt.figure(figsize=(10, 6))\n",
    "plt.bar(df_graph['day_of_week'], df_graph['Rating'], color='skyblue')\n",
    "plt.ylabel('Mean Rating')\n",
    "plt.title('Total Rating Count Per Day of the Week')\n",
    "plt.xticks(df_graph['day_of_week'], labels=day_order)"
   ]
  },
  {
   "cell_type": "code",
   "execution_count": 46,
   "metadata": {},
   "outputs": [
    {
     "data": {
      "text/html": [
       "<div>\n",
       "<style scoped>\n",
       "    .dataframe tbody tr th:only-of-type {\n",
       "        vertical-align: middle;\n",
       "    }\n",
       "\n",
       "    .dataframe tbody tr th {\n",
       "        vertical-align: top;\n",
       "    }\n",
       "\n",
       "    .dataframe thead th {\n",
       "        text-align: right;\n",
       "    }\n",
       "</style>\n",
       "<table border=\"1\" class=\"dataframe\">\n",
       "  <thead>\n",
       "    <tr style=\"text-align: right;\">\n",
       "      <th></th>\n",
       "      <th>month</th>\n",
       "      <th>day_of_week</th>\n",
       "      <th>year</th>\n",
       "      <th>Rating</th>\n",
       "      <th>Review</th>\n",
       "      <th>review_treat</th>\n",
       "      <th>city</th>\n",
       "      <th>state</th>\n",
       "    </tr>\n",
       "  </thead>\n",
       "  <tbody>\n",
       "    <tr>\n",
       "      <th>0</th>\n",
       "      <td>9</td>\n",
       "      <td>2</td>\n",
       "      <td>2023</td>\n",
       "      <td>5.0</td>\n",
       "      <td>Amber and LaDonna at the Starbucks on Southwes...</td>\n",
       "      <td>amber ladonna starbucks southwest parkway warm...</td>\n",
       "      <td>Wichita Falls</td>\n",
       "      <td>TX</td>\n",
       "    </tr>\n",
       "    <tr>\n",
       "      <th>1</th>\n",
       "      <td>7</td>\n",
       "      <td>6</td>\n",
       "      <td>2023</td>\n",
       "      <td>5.0</td>\n",
       "      <td>** at the Starbucks by the fire station on 436...</td>\n",
       "      <td>starbucks fire station   altamonte springs f...</td>\n",
       "      <td>Apopka</td>\n",
       "      <td>FL</td>\n",
       "    </tr>\n",
       "    <tr>\n",
       "      <th>2</th>\n",
       "      <td>7</td>\n",
       "      <td>2</td>\n",
       "      <td>2023</td>\n",
       "      <td>5.0</td>\n",
       "      <td>I just wanted to go out of my way to recognize...</td>\n",
       "      <td>wanted way recognize starbucks employee billy ...</td>\n",
       "      <td>Cranberry Twp</td>\n",
       "      <td>PA</td>\n",
       "    </tr>\n",
       "    <tr>\n",
       "      <th>3</th>\n",
       "      <td>5</td>\n",
       "      <td>4</td>\n",
       "      <td>2023</td>\n",
       "      <td>5.0</td>\n",
       "      <td>Me and my friend were at Starbucks and my card...</td>\n",
       "      <td>friend starbucks card work thankful worker pai...</td>\n",
       "      <td>Seattle</td>\n",
       "      <td>WA</td>\n",
       "    </tr>\n",
       "    <tr>\n",
       "      <th>4</th>\n",
       "      <td>1</td>\n",
       "      <td>6</td>\n",
       "      <td>2023</td>\n",
       "      <td>5.0</td>\n",
       "      <td>I’m on this kick of drinking 5 cups of warm wa...</td>\n",
       "      <td>kick drinking   cups warm water work instacart...</td>\n",
       "      <td>Gresham</td>\n",
       "      <td>OR</td>\n",
       "    </tr>\n",
       "  </tbody>\n",
       "</table>\n",
       "</div>"
      ],
      "text/plain": [
       "   month  day_of_week  year  Rating  \\\n",
       "0      9            2  2023     5.0   \n",
       "1      7            6  2023     5.0   \n",
       "2      7            2  2023     5.0   \n",
       "3      5            4  2023     5.0   \n",
       "4      1            6  2023     5.0   \n",
       "\n",
       "                                              Review  \\\n",
       "0  Amber and LaDonna at the Starbucks on Southwes...   \n",
       "1  ** at the Starbucks by the fire station on 436...   \n",
       "2  I just wanted to go out of my way to recognize...   \n",
       "3  Me and my friend were at Starbucks and my card...   \n",
       "4  I’m on this kick of drinking 5 cups of warm wa...   \n",
       "\n",
       "                                        review_treat           city state  \n",
       "0  amber ladonna starbucks southwest parkway warm...  Wichita Falls    TX  \n",
       "1    starbucks fire station   altamonte springs f...         Apopka    FL  \n",
       "2  wanted way recognize starbucks employee billy ...  Cranberry Twp    PA  \n",
       "3  friend starbucks card work thankful worker pai...        Seattle    WA  \n",
       "4  kick drinking   cups warm water work instacart...        Gresham    OR  "
      ]
     },
     "execution_count": 46,
     "metadata": {},
     "output_type": "execute_result"
    }
   ],
   "source": [
    "df_treat = df[[\"month\",\"day_of_week\", \"year\", \"Rating\", \"Review\", \"review_treat\", \"city\", \"state\"]].copy()\n",
    "df_treat.dropna(axis=0, inplace=True)\n",
    "df_treat.head()"
   ]
  },
  {
   "cell_type": "code",
   "execution_count": 47,
   "metadata": {},
   "outputs": [
    {
     "data": {
      "text/plain": [
       "month           0\n",
       "day_of_week     0\n",
       "year            0\n",
       "Rating          0\n",
       "Review          0\n",
       "review_treat    0\n",
       "city            0\n",
       "state           0\n",
       "dtype: int64"
      ]
     },
     "execution_count": 47,
     "metadata": {},
     "output_type": "execute_result"
    }
   ],
   "source": [
    "# Detectar valores ausentes em todas as colunas de um DataFrame\n",
    "df_treat.isna().sum()"
   ]
  },
  {
   "cell_type": "code",
   "execution_count": 48,
   "metadata": {},
   "outputs": [
    {
     "name": "stdout",
     "output_type": "stream",
     "text": [
      "<class 'pandas.core.frame.DataFrame'>\n",
      "Index: 703 entries, 0 to 749\n",
      "Data columns (total 8 columns):\n",
      " #   Column        Non-Null Count  Dtype  \n",
      "---  ------        --------------  -----  \n",
      " 0   month         703 non-null    int32  \n",
      " 1   day_of_week   703 non-null    int64  \n",
      " 2   year          703 non-null    int32  \n",
      " 3   Rating        703 non-null    float64\n",
      " 4   Review        703 non-null    object \n",
      " 5   review_treat  703 non-null    object \n",
      " 6   city          703 non-null    object \n",
      " 7   state         703 non-null    object \n",
      "dtypes: float64(1), int32(2), int64(1), object(4)\n",
      "memory usage: 43.9+ KB\n"
     ]
    }
   ],
   "source": [
    "df_treat.info()"
   ]
  },
  {
   "cell_type": "code",
   "execution_count": 49,
   "metadata": {},
   "outputs": [
    {
     "data": {
      "text/plain": [
       "<seaborn.axisgrid.PairGrid at 0x110bd6210>"
      ]
     },
     "execution_count": 49,
     "metadata": {},
     "output_type": "execute_result"
    },
    {
     "data": {
      "image/png": "[encoded data removed]",
      "text/plain": [
       "<Figure size 1000x1000 with 20 Axes>"
      ]
     },
     "metadata": {},
     "output_type": "display_data"
    }
   ],
   "source": [
    "# Histograma das variáveis\n",
    "sns.pairplot(df_treat[[\"month\",\"day_of_week\", \"year\", \"Rating\"]])"
   ]
  },
  {
   "cell_type": "markdown",
   "metadata": {},
   "source": [
    "Não parece existir correlação entre o score e a data da avaliação."
   ]
  },
  {
   "cell_type": "code",
   "execution_count": 50,
   "metadata": {},
   "outputs": [],
   "source": [
    "from sklearn.feature_extraction.text import CountVectorizer,TfidfVectorizer\n",
    "from sklearn.base import TransformerMixin\n",
    "from sklearn.pipeline import Pipeline\n",
    "\n",
    "# Creating our tokenizer function\n",
    "def spacy_tokenizer(sentence):\n",
    "    return sentence\n",
    "\n",
    "# Custom transformer using spaCy\n",
    "class predictors(TransformerMixin):\n",
    "    def transform(self, X, **transform_params):\n",
    "        # Cleaning Text\n",
    "        return [clean_text(text) for text in X]\n",
    "\n",
    "    def fit(self, X, y=None, **fit_params):\n",
    "        return self\n",
    "\n",
    "    def get_params(self, deep=True):\n",
    "        return {}\n",
    "\n",
    "# Basic function to clean the text\n",
    "def clean_text(text):\n",
    "    # Removing spaces and converting text into lowercase\n",
    "    return text.strip().lower()\n",
    "\n",
    "bow_vector = CountVectorizer(tokenizer = spacy_tokenizer, ngram_range=(1,1))\n",
    "\n",
    "tfidf_vector = TfidfVectorizer(tokenizer = spacy_tokenizer, token_pattern=None)\n",
    "\n",
    "from sklearn.model_selection import train_test_split\n",
    "\n",
    "X = df_treat['review_treat'] # the features we want to analyze\n",
    "ylabels = df_treat['Rating'] # the labels, or answers, we want to test against\n",
    "\n",
    "X_train, X_test, y_train, y_test = train_test_split(X, ylabels, test_size=0.3)"
   ]
  },
  {
   "cell_type": "code",
   "execution_count": 51,
   "metadata": {},
   "outputs": [
    {
     "name": "stderr",
     "output_type": "stream",
     "text": [
      "/Users/abilioazevedo/.local/share/virtualenvs/trilha-ai-dev-q7YCxvZC/lib/python3.11/site-packages/sklearn/feature_extraction/text.py:525: UserWarning: The parameter 'token_pattern' will not be used since 'tokenizer' is not None'\n",
      "  warnings.warn(\n"
     ]
    },
    {
     "data": {
      "text/html": [
       "<style>#sk-container-id-2 {color: black;}#sk-container-id-2 pre{padding: 0;}#sk-container-id-2 div.sk-toggleable {background-color: white;}#sk-container-id-2 label.sk-toggleable__label {cursor: pointer;display: block;width: 100%;margin-bottom: 0;padding: 0.3em;box-sizing: border-box;text-align: center;}#sk-container-id-2 label.sk-toggleable__label-arrow:before {content: \"▸\";float: left;margin-right: 0.25em;color: #696969;}#sk-container-id-2 label.sk-toggleable__label-arrow:hover:before {color: black;}#sk-container-id-2 div.sk-estimator:hover label.sk-toggleable__label-arrow:before {color: black;}#sk-container-id-2 div.sk-toggleable__content {max-height: 0;max-width: 0;overflow: hidden;text-align: left;background-color: #f0f8ff;}#sk-container-id-2 div.sk-toggleable__content pre {margin: 0.2em;color: black;border-radius: 0.25em;background-color: #f0f8ff;}#sk-container-id-2 input.sk-toggleable__control:checked~div.sk-toggleable__content {max-height: 200px;max-width: 100%;overflow: auto;}#sk-container-id-2 input.sk-toggleable__control:checked~label.sk-toggleable__label-arrow:before {content: \"▾\";}#sk-container-id-2 div.sk-estimator input.sk-toggleable__control:checked~label.sk-toggleable__label {background-color: #d4ebff;}#sk-container-id-2 div.sk-label input.sk-toggleable__control:checked~label.sk-toggleable__label {background-color: #d4ebff;}#sk-container-id-2 input.sk-hidden--visually {border: 0;clip: rect(1px 1px 1px 1px);clip: rect(1px, 1px, 1px, 1px);height: 1px;margin: -1px;overflow: hidden;padding: 0;position: absolute;width: 1px;}#sk-container-id-2 div.sk-estimator {font-family: monospace;background-color: #f0f8ff;border: 1px dotted black;border-radius: 0.25em;box-sizing: border-box;margin-bottom: 0.5em;}#sk-container-id-2 div.sk-estimator:hover {background-color: #d4ebff;}#sk-container-id-2 div.sk-parallel-item::after {content: \"\";width: 100%;border-bottom: 1px solid gray;flex-grow: 1;}#sk-container-id-2 div.sk-label:hover label.sk-toggleable__label {background-color: #d4ebff;}#sk-container-id-2 div.sk-serial::before {content: \"\";position: absolute;border-left: 1px solid gray;box-sizing: border-box;top: 0;bottom: 0;left: 50%;z-index: 0;}#sk-container-id-2 div.sk-serial {display: flex;flex-direction: column;align-items: center;background-color: white;padding-right: 0.2em;padding-left: 0.2em;position: relative;}#sk-container-id-2 div.sk-item {position: relative;z-index: 1;}#sk-container-id-2 div.sk-parallel {display: flex;align-items: stretch;justify-content: center;background-color: white;position: relative;}#sk-container-id-2 div.sk-item::before, #sk-container-id-2 div.sk-parallel-item::before {content: \"\";position: absolute;border-left: 1px solid gray;box-sizing: border-box;top: 0;bottom: 0;left: 50%;z-index: -1;}#sk-container-id-2 div.sk-parallel-item {display: flex;flex-direction: column;z-index: 1;position: relative;background-color: white;}#sk-container-id-2 div.sk-parallel-item:first-child::after {align-self: flex-end;width: 50%;}#sk-container-id-2 div.sk-parallel-item:last-child::after {align-self: flex-start;width: 50%;}#sk-container-id-2 div.sk-parallel-item:only-child::after {width: 0;}#sk-container-id-2 div.sk-dashed-wrapped {border: 1px dashed gray;margin: 0 0.4em 0.5em 0.4em;box-sizing: border-box;padding-bottom: 0.4em;background-color: white;}#sk-container-id-2 div.sk-label label {font-family: monospace;font-weight: bold;display: inline-block;line-height: 1.2em;}#sk-container-id-2 div.sk-label-container {text-align: center;}#sk-container-id-2 div.sk-container {/* jupyter's `normalize.less` sets `[hidden] { display: none; }` but bootstrap.min.css set `[hidden] { display: none !important; }` so we also need the `!important` here to be able to override the default hidden behavior on the sphinx rendered scikit-learn.org. See: https://github.com/scikit-learn/scikit-learn/issues/21755 */display: inline-block !important;position: relative;}#sk-container-id-2 div.sk-text-repr-fallback {display: none;}</style><div id=\"sk-container-id-2\" class=\"sk-top-container\"><div class=\"sk-text-repr-fallback\"><pre>Pipeline(steps=[(&#x27;cleaner&#x27;, &lt;__main__.predictors object at 0x286ceea10&gt;),\n",
       "                (&#x27;vectorizer&#x27;,\n",
       "                 CountVectorizer(tokenizer=&lt;function spacy_tokenizer at 0x2c66858a0&gt;)),\n",
       "                (&#x27;classifier&#x27;, LogisticRegression(max_iter=10000))])</pre><b>In a Jupyter environment, please rerun this cell to show the HTML representation or trust the notebook. <br />On GitHub, the HTML representation is unable to render, please try loading this page with nbviewer.org.</b></div><div class=\"sk-container\" hidden><div class=\"sk-item sk-dashed-wrapped\"><div class=\"sk-label-container\"><div class=\"sk-label sk-toggleable\"><input class=\"sk-toggleable__control sk-hidden--visually\" id=\"sk-estimator-id-5\" type=\"checkbox\" ><label for=\"sk-estimator-id-5\" class=\"sk-toggleable__label sk-toggleable__label-arrow\">Pipeline</label><div class=\"sk-toggleable__content\"><pre>Pipeline(steps=[(&#x27;cleaner&#x27;, &lt;__main__.predictors object at 0x286ceea10&gt;),\n",
       "                (&#x27;vectorizer&#x27;,\n",
       "                 CountVectorizer(tokenizer=&lt;function spacy_tokenizer at 0x2c66858a0&gt;)),\n",
       "                (&#x27;classifier&#x27;, LogisticRegression(max_iter=10000))])</pre></div></div></div><div class=\"sk-serial\"><div class=\"sk-item\"><div class=\"sk-estimator sk-toggleable\"><input class=\"sk-toggleable__control sk-hidden--visually\" id=\"sk-estimator-id-6\" type=\"checkbox\" ><label for=\"sk-estimator-id-6\" class=\"sk-toggleable__label sk-toggleable__label-arrow\">predictors</label><div class=\"sk-toggleable__content\"><pre>&lt;__main__.predictors object at 0x286ceea10&gt;</pre></div></div></div><div class=\"sk-item\"><div class=\"sk-estimator sk-toggleable\"><input class=\"sk-toggleable__control sk-hidden--visually\" id=\"sk-estimator-id-7\" type=\"checkbox\" ><label for=\"sk-estimator-id-7\" class=\"sk-toggleable__label sk-toggleable__label-arrow\">CountVectorizer</label><div class=\"sk-toggleable__content\"><pre>CountVectorizer(tokenizer=&lt;function spacy_tokenizer at 0x2c66858a0&gt;)</pre></div></div></div><div class=\"sk-item\"><div class=\"sk-estimator sk-toggleable\"><input class=\"sk-toggleable__control sk-hidden--visually\" id=\"sk-estimator-id-8\" type=\"checkbox\" ><label for=\"sk-estimator-id-8\" class=\"sk-toggleable__label sk-toggleable__label-arrow\">LogisticRegression</label><div class=\"sk-toggleable__content\"><pre>LogisticRegression(max_iter=10000)</pre></div></div></div></div></div></div></div>"
      ],
      "text/plain": [
       "Pipeline(steps=[('cleaner', <__main__.predictors object at 0x286ceea10>),\n",
       "                ('vectorizer',\n",
       "                 CountVectorizer(tokenizer=<function spacy_tokenizer at 0x2c66858a0>)),\n",
       "                ('classifier', LogisticRegression(max_iter=10000))])"
      ]
     },
     "execution_count": 51,
     "metadata": {},
     "output_type": "execute_result"
    }
   ],
   "source": [
    "from sklearn.linear_model import LogisticRegression\n",
    "classifier = LogisticRegression(max_iter=10000)\n",
    "\n",
    "# Create pipeline using Bag of Words\n",
    "pipe = Pipeline([(\"cleaner\", predictors()),\n",
    "                 ('vectorizer', bow_vector),\n",
    "                 ('classifier', classifier)])\n",
    "\n",
    "# model generation\n",
    "pipe.fit(X_train,y_train)"
   ]
  },
  {
   "cell_type": "code",
   "execution_count": 52,
   "metadata": {},
   "outputs": [
    {
     "name": "stdout",
     "output_type": "stream",
     "text": [
      "Logistic Regression Accuracy: 0.6729857819905213\n",
      "Logistic Regression Precision: 0.6729857819905213\n",
      "Logistic Regression Recall: 0.6729857819905213\n"
     ]
    }
   ],
   "source": [
    "from sklearn import metrics\n",
    "# Predicting with a test dataset\n",
    "predicted = pipe.predict(X_test)\n",
    "\n",
    "# Model Accuracy\n",
    "print(\"Logistic Regression Accuracy:\",metrics.accuracy_score(y_test, predicted))\n",
    "print(\"Logistic Regression Precision:\",metrics.precision_score(y_test, predicted, average='micro'))\n",
    "print(\"Logistic Regression Recall:\",metrics.recall_score(y_test, predicted, average='micro'))"
   ]
  },
  {
   "cell_type": "code",
   "execution_count": 53,
   "metadata": {},
   "outputs": [
    {
     "data": {
      "text/plain": [
       "1.0"
      ]
     },
     "execution_count": 53,
     "metadata": {},
     "output_type": "execute_result"
    }
   ],
   "source": [
    "predicted_example = pipe.predict([\"I didn't like this product at all\"])\n",
    "predicted_example[0]"
   ]
  },
  {
   "cell_type": "code",
   "execution_count": 54,
   "metadata": {},
   "outputs": [
    {
     "data": {
      "text/plain": [
       "5.0"
      ]
     },
     "execution_count": 54,
     "metadata": {},
     "output_type": "execute_result"
    }
   ],
   "source": [
    "predicted_example = pipe.predict([\"I love this product\"])\n",
    "predicted_example[0]"
   ]
  },
  {
   "cell_type": "code",
   "execution_count": 55,
   "metadata": {},
   "outputs": [
    {
     "data": {
      "text/plain": [
       "['./review_model.pkl']"
      ]
     },
     "execution_count": 55,
     "metadata": {},
     "output_type": "execute_result"
    }
   ],
   "source": [
    "# Save model\n",
    "import joblib\n",
    "joblib.dump(pipe, './review_model.pkl')"
   ]
  },
  {
   "cell_type": "code",
   "execution_count": 56,
   "metadata": {},
   "outputs": [
    {
     "data": {
      "text/plain": [
       "5.0"
      ]
     },
     "execution_count": 56,
     "metadata": {},
     "output_type": "execute_result"
    }
   ],
   "source": [
    "model = joblib.load('./review_model.pkl')\n",
    "predicted_example = model.predict([\"I love this product\"])\n",
    "predicted_example[0]"
   ]
  }
 ],
 "metadata": {
  "kernelspec": {
   "display_name": "nlp-starbucks-v_yIGpCt-py3.10",
   "language": "python",
   "name": "python3"
  },
  "language_info": {
   "codemirror_mode": {
    "name": "ipython",
    "version": 3
   },
   "file_extension": ".py",
   "mimetype": "text/x-python",
   "name": "python",
   "nbconvert_exporter": "python",
   "pygments_lexer": "ipython3",
   "version": "3.11.4"
  },
  "orig_nbformat": 4
 },
 "nbformat": 4,
 "nbformat_minor": 2
}
